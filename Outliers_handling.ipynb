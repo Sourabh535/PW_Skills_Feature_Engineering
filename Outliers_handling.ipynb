{
 "cells": [
  {
   "cell_type": "markdown",
   "id": "bcb5a9d5-8abd-45b3-a9a1-364be11d21d4",
   "metadata": {},
   "source": [
    "# OUTLIERS HANDLING"
   ]
  },
  {
   "cell_type": "code",
   "execution_count": 3,
   "id": "e2fcd85e-8c21-4d04-a6c9-4beac5923fd3",
   "metadata": {},
   "outputs": [],
   "source": [
    "## 5 NUMBER SUMMAY\n",
    "# 1. Minimum value\n",
    "# 2 . Q1 - 25 PERCENTILE\n",
    "# 3.  MEDIAN\n",
    "# 4.  Q3 - 75 PERCENTILE\n",
    "# 5. MAXIMUM"
   ]
  },
  {
   "cell_type": "code",
   "execution_count": 4,
   "id": "e89d5d6a-beed-48f5-beb9-280aa6f45003",
   "metadata": {},
   "outputs": [],
   "source": [
    "import numpy as np\n",
    "list_marks = [45,74,65,12,41,32,74,85,63,12,32,4455,6321,41,2311,21]"
   ]
  },
  {
   "cell_type": "code",
   "execution_count": null,
   "id": "82217411-1446-4fb2-bf82-68a312218c9d",
   "metadata": {},
   "outputs": [],
   "source": []
  },
  {
   "cell_type": "code",
   "execution_count": 6,
   "id": "559dd880-f873-4c78-9e48-5ea9c8c9b36f",
   "metadata": {},
   "outputs": [
    {
     "data": {
      "text/plain": [
       "array([32.])"
      ]
     },
     "execution_count": 6,
     "metadata": {},
     "output_type": "execute_result"
    }
   ],
   "source": [
    "np.percentile(list_marks,[25]) # 25 percentile"
   ]
  },
  {
   "cell_type": "code",
   "execution_count": 7,
   "id": "f70be598-ea89-4217-8c51-4b60b395dc53",
   "metadata": {},
   "outputs": [
    {
     "data": {
      "text/plain": [
       "array([6321.])"
      ]
     },
     "execution_count": 7,
     "metadata": {},
     "output_type": "execute_result"
    }
   ],
   "source": [
    "np.percentile(list_marks,[100])"
   ]
  },
  {
   "cell_type": "markdown",
   "id": "e6a89eb6-be26-40ad-94d6-4581ba950b60",
   "metadata": {},
   "source": [
    "we will create a range [ lower , higher]\n",
    "finding Q1"
   ]
  },
  {
   "cell_type": "code",
   "execution_count": 10,
   "id": "b8e4b9af-bda1-4b68-99c8-5e3d9ad020b0",
   "metadata": {},
   "outputs": [],
   "source": [
    "Q1 = np.percentile(list_marks,[25])"
   ]
  },
  {
   "cell_type": "code",
   "execution_count": 11,
   "id": "73950f34-bd53-487c-8294-d47a74f15067",
   "metadata": {},
   "outputs": [
    {
     "data": {
      "text/plain": [
       "array([32.])"
      ]
     },
     "execution_count": 11,
     "metadata": {},
     "output_type": "execute_result"
    }
   ],
   "source": [
    "Q1"
   ]
  },
  {
   "cell_type": "code",
   "execution_count": 16,
   "id": "55874ca5-8d12-4c12-97c3-b00e376a3ba3",
   "metadata": {},
   "outputs": [],
   "source": [
    "MINIMUM , Q1, Q2, Q3, MAXIMUM = np.quantile(list_marks, [0,0.25,0.50,0.75,1.0])"
   ]
  },
  {
   "cell_type": "code",
   "execution_count": 13,
   "id": "21607ffc-0fbe-4658-9192-778da9340b2f",
   "metadata": {},
   "outputs": [
    {
     "data": {
      "text/plain": [
       "6321.0"
      ]
     },
     "execution_count": 13,
     "metadata": {},
     "output_type": "execute_result"
    }
   ],
   "source": [
    "MAXIMUM"
   ]
  },
  {
   "cell_type": "code",
   "execution_count": 17,
   "id": "2cacc941-02ee-45dd-9015-3f1c2ccc3ce1",
   "metadata": {},
   "outputs": [],
   "source": [
    "IQR = Q3 - Q1"
   ]
  },
  {
   "cell_type": "code",
   "execution_count": 18,
   "id": "4ccd8ba8-0f92-4677-ac62-977f0986d43a",
   "metadata": {},
   "outputs": [
    {
     "data": {
      "text/plain": [
       "44.75"
      ]
     },
     "execution_count": 18,
     "metadata": {},
     "output_type": "execute_result"
    }
   ],
   "source": [
    "IQR"
   ]
  },
  {
   "cell_type": "code",
   "execution_count": 19,
   "id": "a547d202-9042-4be0-aea5-b1d77b79e923",
   "metadata": {},
   "outputs": [],
   "source": [
    "LOWER_FENCE = Q1 - 1.5*IQR"
   ]
  },
  {
   "cell_type": "code",
   "execution_count": 23,
   "id": "488b810d-ef30-479a-862e-a3085bc631f6",
   "metadata": {},
   "outputs": [
    {
     "data": {
      "text/plain": [
       "-35.125"
      ]
     },
     "execution_count": 23,
     "metadata": {},
     "output_type": "execute_result"
    }
   ],
   "source": [
    "LOWER_FENCE"
   ]
  },
  {
   "cell_type": "code",
   "execution_count": 20,
   "id": "71e0a050-74d2-429b-bf41-aeeeb62308b9",
   "metadata": {},
   "outputs": [],
   "source": [
    "HIGHER_FENCE = Q3 + 1.5*IQR"
   ]
  },
  {
   "cell_type": "code",
   "execution_count": 21,
   "id": "de69c304-db4c-4daa-bae2-c0205b7741c6",
   "metadata": {},
   "outputs": [
    {
     "data": {
      "text/plain": [
       "143.875"
      ]
     },
     "execution_count": 21,
     "metadata": {},
     "output_type": "execute_result"
    }
   ],
   "source": [
    "HIGHER_FENCE"
   ]
  },
  {
   "cell_type": "code",
   "execution_count": 22,
   "id": "74bc1be7-aa1d-4348-a7d9-060bc8618a64",
   "metadata": {},
   "outputs": [
    {
     "data": {
      "text/plain": [
       "(-35.125, 143.875)"
      ]
     },
     "execution_count": 22,
     "metadata": {},
     "output_type": "execute_result"
    }
   ],
   "source": [
    "LOWER_FENCE, HIGHER_FENCE"
   ]
  },
  {
   "cell_type": "code",
   "execution_count": 27,
   "id": "c36ec7ab-6c98-459a-bfb7-e29a1f980ebd",
   "metadata": {},
   "outputs": [
    {
     "name": "stdout",
     "output_type": "stream",
     "text": [
      "The element is not outlier\n",
      "The element is not outlier\n",
      "The element is not outlier\n",
      "The element is not outlier\n",
      "The element is not outlier\n",
      "The element is not outlier\n",
      "The element is not outlier\n",
      "The element is not outlier\n",
      "The element is not outlier\n",
      "The element is not outlier\n",
      "The element is not outlier\n",
      "The element is not outlier\n",
      "The element is not outlier\n"
     ]
    }
   ],
   "source": [
    "outliers = []\n",
    "for i in list_marks:\n",
    "    if i >= -35 and i <= 143:\n",
    "        print(\"The element is not outlier\")\n",
    "    else:\n",
    "        outliers.append(i)\n",
    "        "
   ]
  },
  {
   "cell_type": "code",
   "execution_count": 28,
   "id": "d0a4a7a0-772f-472e-af67-4e61d5f954b7",
   "metadata": {},
   "outputs": [
    {
     "data": {
      "text/plain": [
       "[4455, 6321, 2311]"
      ]
     },
     "execution_count": 28,
     "metadata": {},
     "output_type": "execute_result"
    }
   ],
   "source": [
    "outliers"
   ]
  },
  {
   "cell_type": "code",
   "execution_count": 29,
   "id": "609055e4-7a31-4e75-8055-2467838cd4cb",
   "metadata": {},
   "outputs": [],
   "source": [
    "# BOXPLOT FOR OULIERS DETECTION"
   ]
  },
  {
   "cell_type": "code",
   "execution_count": 30,
   "id": "0a710ba4-57c6-4972-bdd1-ea62550b721d",
   "metadata": {},
   "outputs": [],
   "source": [
    "import seaborn as sns"
   ]
  },
  {
   "cell_type": "code",
   "execution_count": 31,
   "id": "18b03c4e-40f3-4296-b865-0185ced47b53",
   "metadata": {},
   "outputs": [
    {
     "data": {
      "text/plain": [
       "<AxesSubplot: >"
      ]
     },
     "execution_count": 31,
     "metadata": {},
     "output_type": "execute_result"
    },
    {
     "data": {
      "image/png": "[encoded data removed]",
      "text/plain": [
       "<Figure size 640x480 with 1 Axes>"
      ]
     },
     "metadata": {},
     "output_type": "display_data"
    }
   ],
   "source": [
    "sns.boxplot(list_marks)"
   ]
  },
  {
   "cell_type": "code",
   "execution_count": 32,
   "id": "43b8dce2-79cc-4e19-ac70-6ff2aa78ce38",
   "metadata": {},
   "outputs": [],
   "source": [
    "list_marks = [45,74,65,12,41,32,74,85,63,12,32]"
   ]
  },
  {
   "cell_type": "code",
   "execution_count": 33,
   "id": "c2642a6a-e12f-40fa-9819-e7f69aae0f8b",
   "metadata": {},
   "outputs": [
    {
     "data": {
      "text/plain": [
       "<AxesSubplot: >"
      ]
     },
     "execution_count": 33,
     "metadata": {},
     "output_type": "execute_result"
    },
    {
     "data": {
      "image/png": "[encoded data removed]",
      "text/plain": [
       "<Figure size 640x480 with 1 Axes>"
      ]
     },
     "metadata": {},
     "output_type": "display_data"
    }
   ],
   "source": [
    "sns.boxplot(list_marks)"
   ]
  },
  {
   "cell_type": "code",
   "execution_count": null,
   "id": "60349196-67e0-4dbd-bad2-88bb3461c281",
   "metadata": {},
   "outputs": [],
   "source": []
  }
 ],
 "metadata": {
  "kernelspec": {
   "display_name": "Python 3 (ipykernel)",
   "language": "python",
   "name": "python3"
  },
  "language_info": {
   "codemirror_mode": {
    "name": "ipython",
    "version": 3
   },
   "file_extension": ".py",
   "mimetype": "text/x-python",
   "name": "python",
   "nbconvert_exporter": "python",
   "pygments_lexer": "ipython3",
   "version": "3.10.8"
  }
 },
 "nbformat": 4,
 "nbformat_minor": 5
}
